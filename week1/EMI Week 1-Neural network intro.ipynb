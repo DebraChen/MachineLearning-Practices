{
 "cells": [
  {
   "cell_type": "markdown",
   "metadata": {
    "id": "s8a_TDA0eOtn"
   },
   "source": [
    "# Week 1 \n",
    "# Intro to working with neural nets in keras"
   ]
  },
  {
   "cell_type": "markdown",
   "metadata": {},
   "source": [
    "Before running this the first time, you will need to install keras if you haven't done it previously!\n",
    "\n",
    "The easiest way to do this is to open a terminal/console window and do the following:\n",
    "\n",
    "First, if you have created a new environment (e.g., called \"emi\") for this class, activate it. (If you haven't created an environment then skip this step):\n",
    "\n",
    "`conda activate emi`\n",
    "\n",
    "Then, use conda to install keras:\n",
    "\n",
    "`conda install -c anaconda keras`\n"
   ]
  },
  {
   "cell_type": "code",
   "execution_count": null,
   "metadata": {
    "id": "iX-_2g9yeOtp"
   },
   "outputs": [],
   "source": [
    "# Now do your imports\n",
    "import numpy as np\n",
    "from keras.models import Sequential #base keras model\n",
    "from keras.layers import Dense, Activation #dense = fully connected layer\n",
    "from tensorflow.keras.optimizers import SGD\n",
    "import h5py # for saving a trained network"
   ]
  },
  {
   "cell_type": "markdown",
   "metadata": {
    "id": "2nnZkKibeOtp"
   },
   "source": [
    "## Part 1: A very, very simple example\n",
    "\n",
    "Can we train a single, 1-input neuron to learn the function output = 5 * input ? "
   ]
  },
  {
   "cell_type": "code",
   "execution_count": null,
   "metadata": {
    "id": "4Z9r0N7FeOtp"
   },
   "outputs": [],
   "source": [
    "#Let's make a training dataset with 3 examples\n",
    "x_train = np.array([[2], [1], [-3]]) #Input values for each of our 3 training examples\n",
    "y_train = np.array([10, 5, -15]) #Output values (aka \"targets\") for each of our 3 training examples"
   ]
  },
  {
   "cell_type": "code",
   "execution_count": null,
   "metadata": {
    "id": "dn4euxfOeOtq"
   },
   "outputs": [],
   "source": [
    "# Create the network using keras\n",
    "num_neurons = 1\n",
    "model = Sequential() #the basic keras model class\n",
    "model.add(Dense(num_neurons, input_dim = 1)) #add a \"layer\" of 1 neuron, which has 1 input value. This will compute a weighted sum, with no additional activation function.\n",
    "model.summary() #print out info about this network"
   ]
  },
  {
   "cell_type": "code",
   "execution_count": null,
   "metadata": {
    "id": "BYpjyqL4eOtq"
   },
   "outputs": [],
   "source": [
    "#Set some training parameters\n",
    "#use stochastic gradient descent (pretty standard optimisation method) with a learning rate of 0.1 (why not?)\n",
    "sgd = SGD(learning_rate=0.1) #Note that in previous versions the \"learning_rate\" parameter was titled \"lr\" instead\n",
    "\n",
    "#optimise the mean squared error (i.e., the mean of the squared difference between the model's output and the training target, for each training example)\n",
    "#    This is a fairly standard choice when predicting a real value (as opposed to a binary class of 0 or 1)\n",
    "model.compile(loss='mean_squared_error', optimizer=sgd)"
   ]
  },
  {
   "cell_type": "code",
   "execution_count": null,
   "metadata": {
    "id": "M9ZhtLB7eOtr"
   },
   "outputs": [],
   "source": [
    "# Run the current model on each of the training examples (i.e., using the inputs to calculate the neuron output)\n",
    "model.predict(x_train) #outputs garbage as it's not trained yet: It's computing output = w1 * input + w0 using random values of w0 and w1"
   ]
  },
  {
   "cell_type": "code",
   "execution_count": null,
   "metadata": {
    "id": "lCmiA1QzeOtr",
    "scrolled": true
   },
   "outputs": [],
   "source": [
    "#train the model!\n",
    "model.fit(x_train, y_train, epochs=10)"
   ]
  },
  {
   "cell_type": "code",
   "execution_count": null,
   "metadata": {
    "id": "hov7Xe4seOtr"
   },
   "outputs": [],
   "source": [
    "#Now run it:\n",
    "model.predict(x_train) #Does it produce values similar to y_train? It should..."
   ]
  },
  {
   "cell_type": "code",
   "execution_count": null,
   "metadata": {
    "id": "eSRHqntKeOtr",
    "scrolled": true
   },
   "outputs": [],
   "source": [
    "#we can (and should) run it on some new data, too... \n",
    "new_values = np.array([[-10], [0], [5]]) # 3 new \"data points\"\n",
    "\n",
    "#Does it output 5 * x for each new value x ?\n",
    "model.predict(new_values) #be careful to read this using scientific notation ;)"
   ]
  },
  {
   "cell_type": "code",
   "execution_count": null,
   "metadata": {
    "id": "-bjy2e7reOts",
    "scrolled": true
   },
   "outputs": [],
   "source": [
    "#Let's look at the model's weights! We'll see (1) the weight for the input, and (2) the weight for the bias\n",
    "model.get_weights()"
   ]
  },
  {
   "cell_type": "code",
   "execution_count": null,
   "metadata": {
    "id": "U6LlIeXEeOts"
   },
   "outputs": [],
   "source": [
    "# Perhaps try with a new dataset in which our training example output (target) values are np.array([11, 6, -14])?\n",
    "y_train_new = np.array([11, 6, -14])\n",
    "model = Sequential() #the basic model class\n",
    "model.add(Dense(num_neurons, input_dim = 1)) #add a \"layer\" of 1 neuron, which has 1 input value. This will compute a weighted sum, with no additional activation function.\n",
    "model.summary()\n",
    "sgd = SGD(lr=0.1) \n",
    "model.compile(loss='mean_squared_error', optimizer=sgd)\n",
    "model.fit(x_train, y_train_new, epochs=15)"
   ]
  },
  {
   "cell_type": "code",
   "execution_count": null,
   "metadata": {
    "id": "e08iTiACeOts"
   },
   "outputs": [],
   "source": [
    "model.get_weights() #Notice weight is 5 and bias is now 1 (approximately), encoding the function output = input * 5 + 1"
   ]
  }
 ],
 "metadata": {
  "colab": {
   "collapsed_sections": [],
   "name": "NLP Week 4.2-Neural network intro.ipynb",
   "provenance": []
  },
  "kernelspec": {
   "display_name": "Python 3 (ipykernel)",
   "language": "python",
   "name": "python3"
  },
  "language_info": {
   "codemirror_mode": {
    "name": "ipython",
    "version": 3
   },
   "file_extension": ".py",
   "mimetype": "text/x-python",
   "name": "python",
   "nbconvert_exporter": "python",
   "pygments_lexer": "ipython3",
   "version": "3.8.12"
  }
 },
 "nbformat": 4,
 "nbformat_minor": 1
}
